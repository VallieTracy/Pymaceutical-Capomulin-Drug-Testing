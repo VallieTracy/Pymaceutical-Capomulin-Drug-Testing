{
 "cells": [
  {
   "cell_type": "code",
   "execution_count": 1,
   "metadata": {},
   "outputs": [],
   "source": [
    "#import dependencies\n",
    "import matplotlib.pyplot as plt\n",
    "import pandas as pd\n",
    "import scipy.stats as st\n",
    "import os"
   ]
  },
  {
   "cell_type": "code",
   "execution_count": 3,
   "metadata": {},
   "outputs": [],
   "source": [
    "#set variables for data files\n",
    "mouse_metadata = os.path.join(\"Resources\", \"mouse_metadata.csv\")\n",
    "study_files = os.path.join(\"Resources\", \"study_results.csv\")\n",
    "\n",
    "#read the csv files\n",
    "mouse_metadata = pd.read_csv(mouse_metadata)\n",
    "study_files = pd.read_csv(study_files)\n",
    "mouse_metadata.head()\n",
    "\n",
    "#combine the data sets into one\n",
    "full_data = pd.merge(mouse_metadata, study_files, on=\"Mouse ID\")"
   ]
  },
  {
   "cell_type": "code",
   "execution_count": null,
   "metadata": {},
   "outputs": [],
   "source": []
  },
  {
   "cell_type": "code",
   "execution_count": null,
   "metadata": {},
   "outputs": [],
   "source": []
  },
  {
   "cell_type": "code",
   "execution_count": null,
   "metadata": {},
   "outputs": [],
   "source": []
  }
 ],
 "metadata": {
  "kernelspec": {
   "display_name": "Python 3",
   "language": "python",
   "name": "python3"
  },
  "language_info": {
   "codemirror_mode": {
    "name": "ipython",
    "version": 3
   },
   "file_extension": ".py",
   "mimetype": "text/x-python",
   "name": "python",
   "nbconvert_exporter": "python",
   "pygments_lexer": "ipython3",
   "version": "3.7.4"
  }
 },
 "nbformat": 4,
 "nbformat_minor": 2
}
