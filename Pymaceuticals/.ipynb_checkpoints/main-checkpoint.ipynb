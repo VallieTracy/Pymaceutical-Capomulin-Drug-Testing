{
 "cells": [
  {
   "cell_type": "code",
   "execution_count": null,
   "metadata": {},
   "outputs": [],
   "source": [
    "%matplotlib notebook"
   ]
  },
  {
   "cell_type": "code",
   "execution_count": null,
   "metadata": {},
   "outputs": [],
   "source": [
    "#import dependencies\n",
    "import matplotlib.pyplot as plt\n",
    "import pandas as pd\n",
    "import scipy.stats as st\n",
    "import os\n",
    "import numpy as np\n",
    "from scipy.stats import sem"
   ]
  },
  {
   "cell_type": "code",
   "execution_count": null,
   "metadata": {},
   "outputs": [],
   "source": [
    "#set variables for data files\n",
    "mouse_metadata = os.path.join(\"Resources\", \"mouse_metadata.csv\")\n",
    "study_files = os.path.join(\"Resources\", \"study_results.csv\")\n",
    "\n",
    "#read the csv files\n",
    "mouse_metadata = pd.read_csv(mouse_metadata)\n",
    "study_files = pd.read_csv(study_files)\n",
    "mouse_metadata.head()\n",
    "\n",
    "#combine the data sets into one & preview\n",
    "data_df = pd.merge(mouse_metadata, study_files, on=\"Mouse ID\")\n",
    "data_df.head()"
   ]
  },
  {
   "cell_type": "code",
   "execution_count": null,
   "metadata": {},
   "outputs": [],
   "source": [
    "#Summary Statistics\n",
    "#find: mean, median, variance, standard deviation, and standard error of measurement\n",
    "#generate a bar plot of the data points, using both Pandas and Matplotlib\n",
    "\n",
    "#group dataset by Drug Regimen and Timepoint, then find stats on Tumor Volume\n",
    "tumor_mean = data_df.groupby([\"Drug Regimen\", \"Timepoint\"]).mean()[\"Tumor Volume (mm3)\"]\n",
    "tumor_median = data_df.groupby([\"Drug Regimen\", \"Timepoint\"]).median()[\"Tumor Volume (mm3)\"]\n",
    "tumor_variance = data_df.groupby([\"Drug Regimen\", \"Timepoint\"]).var()[\"Tumor Volume (mm3)\"]\n",
    "tumor_std = data_df.groupby([\"Drug Regimen\", \"Timepoint\"]).std()[\"Tumor Volume (mm3)\"]\n",
    "tumor_sem = data_df.groupby([\"Drug Regimen\", \"Timepoint\"]).sem()[\"Tumor Volume (mm3)\"]\n",
    "\n",
    "#put the stats into a dataframe\n",
    "summary_stats_df = pd.DataFrame({\"Mean\": tumor_mean,\n",
    "                                 \"Median\": tumor_median,\n",
    "                                 \"Variance\": tumor_variance,\n",
    "                                 \"Standard Deviation\": tumor_std,\n",
    "                                 \"Standard Error\": tumor_sem})\n",
    "\n",
    "#reset index & preview\n",
    "#summary_stats_df = summary_stats_df.reset_index()\n",
    "summary_stats_df"
   ]
  },
  {
   "cell_type": "code",
   "execution_count": null,
   "metadata": {},
   "outputs": [],
   "source": [
    "#bar plot using Pandas\n",
    "\n",
    "#keep only Mean and Median columns from Summary Stats dataframe\n",
    "summary_bar = summary_stats_df[[\"Mean\", \"Median\"]]\n",
    "\n",
    "#use df.plot() in order to create a bar chart of the data\n",
    "summary_bar.plot(kind=\"bar\", figsize=(20,5))\n",
    "\n",
    "#format the bar chart\n",
    "plt.title(\"Summary Statistics:\\n\" \n",
    "          \"Tumor Volume by Drug, Across Lifespan of the Study\")\n",
    "plt.ylabel(\"Tumor Volume (mm3)\")\n",
    "plt.tight_layout()\n",
    "plt.show()\n",
    "\n",
    "#save to Images folder\n",
    "plt.savefig(os.path.join(\"Images\",\"pandas_summary_stats.png\"))"
   ]
  },
  {
   "cell_type": "code",
   "execution_count": null,
   "metadata": {},
   "outputs": [],
   "source": [
    "#MATPLOTLIB"
   ]
  },
  {
   "cell_type": "code",
   "execution_count": null,
   "metadata": {},
   "outputs": [],
   "source": [
    "summary_stats_df = summary_stats_df.reset_index()\n",
    "summary_stats_df.head()"
   ]
  },
  {
   "cell_type": "code",
   "execution_count": null,
   "metadata": {},
   "outputs": [],
   "source": [
    "# Set x axis and tick locations\n",
    "x_axis = np.arange(len(summary_stats_df))\n",
    "tick_locations = [value for value in x_axis]"
   ]
  },
  {
   "cell_type": "code",
   "execution_count": null,
   "metadata": {
    "scrolled": false
   },
   "outputs": [],
   "source": [
    "# Create a list indicating where to write x labels and set figure size to adjust for space\n",
    "plt.figure(figsize=(20,3))\n",
    "plt.bar(x_axis, summary_stats_df[\"Mean\"], color='r', alpha=0.5, align=\"center\")\n",
    "plt.xticks(tick_locations, summary_stats_df[\"Drug Regimen\"], rotation=\"vertical\")"
   ]
  },
  {
   "cell_type": "code",
   "execution_count": null,
   "metadata": {},
   "outputs": [],
   "source": [
    "# Set x and y limits\n",
    "plt.xlim(-.75, len(x_axis))\n",
    "plt.ylim(0, max(summary_stats_df[\"Mean\"])+10)"
   ]
  },
  {
   "cell_type": "code",
   "execution_count": null,
   "metadata": {},
   "outputs": [],
   "source": [
    "# Set a Title and labels\n",
    "plt.title(\"Summary Statistics:\\n\" \n",
    "          \"Tumor Volume by Drug, Across Lifespan of the Study\")\n",
    "plt.xlabel(\"Drug Regimen, Timepoint\")\n",
    "plt.ylabel(\"Tumor Volume (mm3)\")"
   ]
  },
  {
   "cell_type": "code",
   "execution_count": null,
   "metadata": {},
   "outputs": [],
   "source": [
    "# Save our graph and show the graph\n",
    "plt.tight_layout()\n",
    "plt.show()"
   ]
  },
  {
   "cell_type": "code",
   "execution_count": null,
   "metadata": {},
   "outputs": [],
   "source": [
    "#END MATPLOTLIB"
   ]
  },
  {
   "cell_type": "code",
   "execution_count": null,
   "metadata": {},
   "outputs": [],
   "source": [
    "#testing the counts and various numbers so I can check against my functions below\n",
    "#keep for now, delete for final output\n",
    "\n",
    "drug_types = data_df[\"Drug Regimen\"].unique()\n",
    "print(drug_types)\n",
    "\n",
    "drug_counts = data_df[\"Drug Regimen\"].value_counts()\n",
    "print(drug_counts)"
   ]
  },
  {
   "cell_type": "code",
   "execution_count": null,
   "metadata": {},
   "outputs": [],
   "source": [
    "#Create pie charts (one using Pandas, the other Matplotlib) to show the mice gender distribution in the study\n",
    "\n",
    "#the total number of mice\n",
    "total_mice = len(data_df[\"Mouse ID\"].unique())\n",
    "#delete print command\n",
    "print(total_mice)\n",
    "\n",
    "#removing duplicate \"Mouse ID\" rows\n",
    "gender_df = data_df.loc[:, [\"Mouse ID\", \"Sex\"]]\n",
    "gender_df = gender_df.drop_duplicates()\n",
    "\n",
    "#find the total of males and females\n",
    "gender_total = gender_df[\"Sex\"].value_counts()\n",
    "#delete print and type commands\n",
    "print(gender_total)\n",
    "type(gender_total)\n",
    "\n",
    "gender_df = pd.DataFrame({\"Gender\": gender_total})\n",
    "#delete below\n",
    "gender_df\n"
   ]
  },
  {
   "cell_type": "code",
   "execution_count": null,
   "metadata": {},
   "outputs": [],
   "source": [
    "#generate a pie plot showing the distribution of female versus male mice using matplotlib\n",
    "\n",
    "#create labels for sections of the pie and corresponding colors\n",
    "labels = [\"Male\", \"Female\"]\n",
    "colors = [\"lightskyblue\", \"pink\"]\n",
    "\n",
    "#plot the pie chart\n",
    "plt.pie(gender_total, labels=labels, colors=colors, autopct=\"%1.1f%%\", shadow=False, startangle=140)"
   ]
  },
  {
   "cell_type": "code",
   "execution_count": null,
   "metadata": {},
   "outputs": [],
   "source": [
    "#save to Images folder\n",
    "plt.savefig(os.path.join(\"Images\",\"pyplot_pie.png\"))"
   ]
  },
  {
   "cell_type": "code",
   "execution_count": null,
   "metadata": {},
   "outputs": [],
   "source": [
    "#generate a pie plot showing the distribution of female versus male mice using pandas\n",
    "#gender_pie = gender_df.plot(kind=\"pie\", subplots=\"True\", figsize=(5,5))\n",
    "gender_pie = gender_df.plot(kind=\"pie\", subplots=\"True\", autopct=\"%1.1f%%\", colors=colors)# figsize=(8, 5))"
   ]
  },
  {
   "cell_type": "code",
   "execution_count": null,
   "metadata": {},
   "outputs": [],
   "source": [
    "#save to Images folder\n",
    "plt.savefig(os.path.join(\"Images\",\"pandas_pie.png\"))"
   ]
  },
  {
   "cell_type": "code",
   "execution_count": null,
   "metadata": {},
   "outputs": [],
   "source": [
    "#calculate the final tumor volume of each mouse across four of the most promising treatment regimens\n",
    "#calculate the IQR and quantitatively determine if there are any potential outliers\n",
    "\n",
    "#first group my data by Timepoint and Drug Regimen\n",
    "#then look at Tumor Volume\n",
    "grouped_df = data_df.groupby([\"Drug Regimen\", \"Timepoint\"])\n",
    "MeanTumorVolume = grouped_df[\"Tumor Volume (mm3)\"].mean()\n",
    "\n",
    "#create dataframe from the series created above\n",
    "MeanTumorVolume_df = pd.DataFrame(MeanTumorVolume)\n",
    "\n",
    "#need Drug Regimen & Timepoint as columns, so reset index\n",
    "MeanTumorVolume_df = MeanTumorVolume_df.reset_index()\n",
    "MeanTumorVolume_df"
   ]
  },
  {
   "cell_type": "code",
   "execution_count": null,
   "metadata": {},
   "outputs": [],
   "source": [
    "#reformat in order to find four 'best' drug treatments and for future plotting (?????? on the future plotting)\n",
    "pivot_MeanTumorVolume_df = MeanTumorVolume_df.pivot(index=\"Timepoint\", columns=\"Drug Regimen\", values=\"Tumor Volume (mm3)\")\n",
    "pivot_MeanTumorVolume_df\n",
    "\n",
    "#4 'best' treatments: Ramicane, Capomulin, Ceftamin, Infubinol"
   ]
  },
  {
   "cell_type": "code",
   "execution_count": null,
   "metadata": {},
   "outputs": [],
   "source": [
    "#calculate the final tumor volume of each mouse across four of the most promising treatment regimens\n",
    "top_four = pivot_MeanTumorVolume_df[[\"Ramicane\", \"Capomulin\", \"Ceftamin\", \"Infubinol\"]]\n",
    "top_four\n",
    "#calculate the IQR and quantitatively determine if there are any potential outliers. "
   ]
  },
  {
   "cell_type": "code",
   "execution_count": null,
   "metadata": {},
   "outputs": [],
   "source": [
    "ramicane_result = top_four.iloc[9, 0]\n",
    "capomulin_result = top_four.iloc[9, 1]\n",
    "ceftamin_result = top_four.iloc[9, 2]\n",
    "infubinol_result = top_four.iloc[9, 3]\n",
    "\n",
    "results_df = pd.DataFrame({\"Ramicane\": [ramicane_result],\n",
    "                           \"Capomulin\": [capomulin_result],\n",
    "                           \"Ceftamin\": [ceftamin_result],\n",
    "                           \"Infubinol\": [infubinol_result]})\n",
    "results_df"
   ]
  },
  {
   "cell_type": "code",
   "execution_count": null,
   "metadata": {},
   "outputs": [],
   "source": [
    "MeanTumorVolume_df = MeanTumorVolume_df.rename(columns={\"Drug Regimen\": \"Drug\"})\n",
    "MeanTumorVolume_df\n",
    "\n",
    "drugs = [\"Ramicane\", \"Capomulin\", \"Ceftamin\", \"Infubinol\"]\n",
    "MeanTumorVolume_df.Drug.isin(drugs)\n",
    "top_drugs = MeanTumorVolume_df[MeanTumorVolume_df.Drug.isin(drugs)]\n",
    "top_drugs"
   ]
  },
  {
   "cell_type": "code",
   "execution_count": null,
   "metadata": {},
   "outputs": [],
   "source": [
    "end_time = top_drugs[\"Timepoint\"] == 45\n",
    "final_tumor = top_drugs[end_time]\n",
    "final_tumor"
   ]
  },
  {
   "cell_type": "code",
   "execution_count": null,
   "metadata": {},
   "outputs": [],
   "source": [
    "#THE FINAL TUMOR SIZE FOR THE TOP FOUR DRUGS (only four values)\n",
    "volumes = final_tumor[\"Tumor Volume (mm3)\"]\n",
    "\n",
    "fig1, ax1 = plt.subplots()\n",
    "ax1.set_title('Tumors')\n",
    "ax1.set_ylabel('Tumor Volume')\n",
    "ax1.boxplot(volumes)\n",
    "plt.show()"
   ]
  },
  {
   "cell_type": "code",
   "execution_count": null,
   "metadata": {},
   "outputs": [],
   "source": [
    "#THE FINAL TUMOR SIZE FOR THE TOP FOUR DRUGS (only four values)\n",
    "quartiles = volumes.quantile([.25,.5,.75])\n",
    "lowerq = quartiles[0.25]\n",
    "upperq = quartiles[0.75]\n",
    "iqr = upperq-lowerq\n",
    "\n",
    "print(f\"The lower quartile of tumor volumes is: {lowerq}\")\n",
    "print(f\"The upper quartile of tumor volumes is: {upperq}\")\n",
    "print(f\"The interquartile range of tumor volumes is: {iqr}\")\n",
    "print(f\"The the median of tumor volumes is: {quartiles[0.5]} \")\n",
    "\n",
    "lower_bound = lowerq - (1.5*iqr)\n",
    "upper_bound = upperq + (1.5*iqr)\n",
    "print(f\"Values below {lower_bound} could be outliers.\")\n",
    "print(f\"Values above {upper_bound} could be outliers.\")"
   ]
  },
  {
   "cell_type": "code",
   "execution_count": null,
   "metadata": {},
   "outputs": [],
   "source": [
    "#ALL TUMOR VOLUMES, ALL DRUGS\n",
    "volumes = data_df[\"Tumor Volume (mm3)\"]\n",
    "\n",
    "fig1, ax1 = plt.subplots()\n",
    "ax1.set_title('Tumors')\n",
    "ax1.set_ylabel('Tumor Volume')\n",
    "ax1.boxplot(volumes)\n",
    "plt.show()"
   ]
  },
  {
   "cell_type": "code",
   "execution_count": null,
   "metadata": {},
   "outputs": [],
   "source": [
    "#ALL TUMOR VOLUMES, ALL DRUGS\n",
    "quartiles = volumes.quantile([.25,.5,.75])\n",
    "lowerq = quartiles[0.25]\n",
    "upperq = quartiles[0.75]\n",
    "iqr = upperq-lowerq\n",
    "\n",
    "print(f\"The lower quartile of tumor volumes is: {lowerq}\")\n",
    "print(f\"The upper quartile of tumor volumes is: {upperq}\")\n",
    "print(f\"The interquartile range of tumor volumes is: {iqr}\")\n",
    "print(f\"The the median of tumor volumes is: {quartiles[0.5]} \")\n",
    "\n",
    "lower_bound = lowerq - (1.5*iqr)\n",
    "upper_bound = upperq + (1.5*iqr)\n",
    "print(f\"Values below {lower_bound} could be outliers.\")\n",
    "print(f\"Values above {upper_bound} could be outliers.\")"
   ]
  },
  {
   "cell_type": "code",
   "execution_count": null,
   "metadata": {},
   "outputs": [],
   "source": [
    "#ALL TUMOR VOLUMES OF THE TOP FOUR DRUGS\n",
    "volumes = top_drugs[\"Tumor Volume (mm3)\"]\n",
    "\n",
    "fig1, ax1 = plt.subplots()\n",
    "ax1.set_title('Tumors')\n",
    "ax1.set_ylabel('Tumor Volume')\n",
    "ax1.boxplot(volumes)\n",
    "plt.show()"
   ]
  },
  {
   "cell_type": "code",
   "execution_count": null,
   "metadata": {},
   "outputs": [],
   "source": [
    "#ALL TUMOR VOLUMES OF THE TOP FOUR DRUGS\n",
    "quartiles = volumes.quantile([.25,.5,.75])\n",
    "lowerq = quartiles[0.25]\n",
    "upperq = quartiles[0.75]\n",
    "iqr = upperq-lowerq\n",
    "\n",
    "print(f\"The lower quartile of tumor volumes is: {lowerq}\")\n",
    "print(f\"The upper quartile of tumor volumes is: {upperq}\")\n",
    "print(f\"The interquartile range of tumor volumes is: {iqr}\")\n",
    "print(f\"The the median of tumor volumes is: {quartiles[0.5]} \")\n",
    "\n",
    "lower_bound = lowerq - (1.5*iqr)\n",
    "upper_bound = upperq + (1.5*iqr)\n",
    "print(f\"Values below {lower_bound} could be outliers.\")\n",
    "print(f\"Values above {upper_bound} could be outliers.\")"
   ]
  }
 ],
 "metadata": {
  "kernelspec": {
   "display_name": "Python 3",
   "language": "python",
   "name": "python3"
  },
  "language_info": {
   "codemirror_mode": {
    "name": "ipython",
    "version": 3
   },
   "file_extension": ".py",
   "mimetype": "text/x-python",
   "name": "python",
   "nbconvert_exporter": "python",
   "pygments_lexer": "ipython3",
   "version": "3.7.4"
  }
 },
 "nbformat": 4,
 "nbformat_minor": 2
}
